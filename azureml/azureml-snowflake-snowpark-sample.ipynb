{
  "cells": [
    {
      "cell_type": "markdown",
      "source": [
        "# The notebook connects gets data from Snowflake to train a ML model and deploy it on Snowpark to run batch inference.\r\n",
        "\r\n",
        "@author Mash Syed",
        "### Dataset ####\r\n",
        "#### https://www.kaggle.com/datasets/neelesh0602/bankcsv\r\n"
      ],
      "metadata": {
        "nteract": {
          "transient": {
            "deleting": false
          }
        }
      }
    },
    {
      "cell_type": "code",
      "source": [
        "#pip install snowflake-connector-python\r\n",
        "#pip install \"snowflake-connector-python[pandas]\"\r\n",
        "#pip install --upgrade snowflake-sqlalchemy\r\n",
        "#pip install xgboost==1.5.0\r\n",
        "#pip install snowflake-snowpark-python\r\n",
        "#pip install \"snowflake-snowpark-python[pandas]\""
      ],
      "outputs": [],
      "execution_count": 143,
      "metadata": {
        "application/vnd.databricks.v1+cell": {
          "title": "",
          "showTitle": false,
          "inputWidgets": {},
          "nuid": "0d6e8d28-0856-4161-a5f5-64729de232ce"
        },
        "gather": {
          "logged": 1658347727340
        }
      }
    },
    {
      "cell_type": "code",
      "source": [
        "# azure ml packages\n",
        "from azureml.core import Workspace\n",
        "from azureml.core import Keyvault\n",
        "\n",
        "# snowflake packages\n",
        "from snowflake.snowpark import Session\n",
        "from snowflake.snowpark.functions import udf\n",
        "from snowflake.snowpark.types import *\n",
        "from snowflake.snowpark import functions as F\n",
        "\n",
        "# import standard python libs\n",
        "import pandas as pd\n",
        "import matplotlib.pyplot as plt\n",
        "import numpy as np\n",
        "import snowflake.connector\n",
        "%matplotlib inline\n",
        "\n",
        "# Pull in relevant ML libraries\n",
        "from sklearn.metrics import confusion_matrix\n",
        "from sklearn.model_selection import train_test_split\n",
        "from sklearn.model_selection import cross_val_score, KFold\n",
        "from sklearn.preprocessing import OneHotEncoder\n",
        "from sklearn.preprocessing import MinMaxScaler\n",
        "\n",
        "#Classifier\n",
        "from sklearn.ensemble import RandomForestClassifier\n",
        "\n",
        "# use sqlalchemy connector to write to snowflake\n",
        "from sqlalchemy.dialects import registry\n",
        "registry.register('snowflake', 'snowflake.sqlalchemy', 'dialect')\n",
        "from snowflake.sqlalchemy import URL\n",
        "from sqlalchemy import create_engine"
      ],
      "outputs": [],
      "execution_count": 144,
      "metadata": {
        "application/vnd.databricks.v1+cell": {
          "title": "",
          "showTitle": false,
          "inputWidgets": {},
          "nuid": "b266dda4-b4ed-4cdc-999c-2dc253860656"
        },
        "gather": {
          "logged": 1658291885363
        },
        "ms_comments": [
          {
            "threadId": "12d8fca3-f801-49b1-b6ae-c6bf82550282",
            "text": "Snowpark supports XGBBoost too. Check this link https://medium.com/snowflake/using-snowpark-for-python-with-amazon-sagemaker-44ec7fdb4381\n\n\nWe can remove this package during cleanup",
            "status": "resolved",
            "user": {
              "name": "Shankar Narayanan Ganapathy",
              "idType": "aad"
            },
            "createdDateUTC": 1660067231095,
            "modifiedDateUTC": 1660328323050,
            "replies": []
          },
          {
            "threadId": "f397b8f9-b3d9-47de-9c8c-9b50e481d6a7",
            "text": "Do we need Sqlalchemy for this? Cant we use just Snowflake Python connector?",
            "status": "resolved",
            "user": {
              "name": "Shankar Narayanan Ganapathy",
              "idType": "aad"
            },
            "createdDateUTC": 1660067145589,
            "modifiedDateUTC": 1660328327803,
            "replies": [
              {
                "replyId": "012e90ff-efac-4907-8cc9-0509b614c6ff",
                "text": "or the Snowflake Pandas connector",
                "user": {
                  "name": "Shankar Narayanan Ganapathy",
                  "idType": "aad"
                },
                "createdDateUTC": 1660067803353,
                "modifiedDateUTC": 1660067803353
              }
            ]
          }
        ],
        "ms_comment_ranges": {
          "f397b8f9-b3d9-47de-9c8c-9b50e481d6a7": {
            "text": "snowflake",
            "start": {
              "line": 28,
              "column": 40
            },
            "end": {
              "line": 28,
              "column": 49
            }
          }
        }
      }
    },
    {
      "cell_type": "code",
      "source": [
        "# Reading credentials from secrets\r\n",
        "ws = Workspace.from_config()\r\n",
        "\r\n",
        "keyvault = ws.get_default_keyvault()\r\n",
        "sfuser = keyvault.get_secret(name=\"sf-user\")\r\n",
        "sfpasswd = keyvault.get_secret(name=\"sf-passwd\")\r\n",
        "sfaccount = keyvault.get_secret(name=\"sf-account\")\r\n",
        "sfhost = keyvault.get_secret(name=\"sf-host\")\r\n",
        "sfhostalchemy = keyvault.get_secret(name='sf-host-alchemy')"
      ],
      "outputs": [],
      "execution_count": 145,
      "metadata": {
        "jupyter": {
          "source_hidden": false,
          "outputs_hidden": false
        },
        "nteract": {
          "transient": {
            "deleting": false
          }
        }
      }
    },
    {
      "cell_type": "markdown",
      "source": [
        "# Connect To Snowflake and Get Data\r\n",
        "#### The Snowflake Python connector is used to connect to Snowflake to fetch the data into a pandas data frame.\r\n",
        "#### Reference - https://docs.snowflake.com/en/user-guide/python-connector.html\r\n"
      ],
      "metadata": {
        "application/vnd.databricks.v1+cell": {
          "title": "",
          "showTitle": false,
          "inputWidgets": {},
          "nuid": "b6b2a9c2-2ef0-4436-9e51-f78f55d9d5f4"
        }
      }
    },
    {
      "cell_type": "code",
      "source": [
        "ctx = snowflake.connector.connect(\n",
        "    host=sfhost,\n",
        "    user=sfuser,\n",
        "    password=sfpasswd,\n",
        "    account=sfaccount,\n",
        "    warehouse=\"compute_wh\",\n",
        "    database=\"demo\",\n",
        "    schema=\"source_data\"\n",
        ")\n",
        "\n",
        "# Create a cursor object.\n",
        "cur = ctx.cursor()\n",
        "\n",
        "# Execute a statement that will generate a result set.\n",
        "sql = \"select * from demo.source_data.banking_customers\"\n",
        "cur.execute(sql)\n",
        "\n",
        "# Fetch the result set from the cursor and deliver it as the Pandas DataFrame.\n",
        "df = cur.fetch_pandas_all()\n",
        "\n",
        "df.head()"
      ],
      "outputs": [
        {
          "output_type": "execute_result",
          "execution_count": 146,
          "data": {
            "text/plain": "   AGE         JOB  MARITAL  EDUCATION DEFAULT  BALANCE HOUSING LOAN  CONTACT  \\\n0   59      admin.  married  secondary      no     2343     yes   no  unknown   \n1   56      admin.  married  secondary      no       45      no   no  unknown   \n2   41  technician  married  secondary      no     1270     yes   no  unknown   \n3   55    services  married  secondary      no     2476     yes   no  unknown   \n4   54      admin.  married   tertiary      no      184      no   no  unknown   \n\n  DAY MONTH  DURATION CAMPAIGN  PDAYS  PREVIOUS POUTCOME DEPOSIT  CUSTOMERID  \n0   5   may      1042        1     -1         0  unknown     yes           1  \n1   5   may      1467        1     -1         0  unknown     yes           2  \n2   5   may      1389        1     -1         0  unknown     yes           3  \n3   5   may       579        1     -1         0  unknown     yes           4  \n4   5   may       673        2     -1         0  unknown     yes           5  ",
            "text/html": "<div>\n<style scoped>\n    .dataframe tbody tr th:only-of-type {\n        vertical-align: middle;\n    }\n\n    .dataframe tbody tr th {\n        vertical-align: top;\n    }\n\n    .dataframe thead th {\n        text-align: right;\n    }\n</style>\n<table border=\"1\" class=\"dataframe\">\n  <thead>\n    <tr style=\"text-align: right;\">\n      <th></th>\n      <th>AGE</th>\n      <th>JOB</th>\n      <th>MARITAL</th>\n      <th>EDUCATION</th>\n      <th>DEFAULT</th>\n      <th>BALANCE</th>\n      <th>HOUSING</th>\n      <th>LOAN</th>\n      <th>CONTACT</th>\n      <th>DAY</th>\n      <th>MONTH</th>\n      <th>DURATION</th>\n      <th>CAMPAIGN</th>\n      <th>PDAYS</th>\n      <th>PREVIOUS</th>\n      <th>POUTCOME</th>\n      <th>DEPOSIT</th>\n      <th>CUSTOMERID</th>\n    </tr>\n  </thead>\n  <tbody>\n    <tr>\n      <th>0</th>\n      <td>59</td>\n      <td>admin.</td>\n      <td>married</td>\n      <td>secondary</td>\n      <td>no</td>\n      <td>2343</td>\n      <td>yes</td>\n      <td>no</td>\n      <td>unknown</td>\n      <td>5</td>\n      <td>may</td>\n      <td>1042</td>\n      <td>1</td>\n      <td>-1</td>\n      <td>0</td>\n      <td>unknown</td>\n      <td>yes</td>\n      <td>1</td>\n    </tr>\n    <tr>\n      <th>1</th>\n      <td>56</td>\n      <td>admin.</td>\n      <td>married</td>\n      <td>secondary</td>\n      <td>no</td>\n      <td>45</td>\n      <td>no</td>\n      <td>no</td>\n      <td>unknown</td>\n      <td>5</td>\n      <td>may</td>\n      <td>1467</td>\n      <td>1</td>\n      <td>-1</td>\n      <td>0</td>\n      <td>unknown</td>\n      <td>yes</td>\n      <td>2</td>\n    </tr>\n    <tr>\n      <th>2</th>\n      <td>41</td>\n      <td>technician</td>\n      <td>married</td>\n      <td>secondary</td>\n      <td>no</td>\n      <td>1270</td>\n      <td>yes</td>\n      <td>no</td>\n      <td>unknown</td>\n      <td>5</td>\n      <td>may</td>\n      <td>1389</td>\n      <td>1</td>\n      <td>-1</td>\n      <td>0</td>\n      <td>unknown</td>\n      <td>yes</td>\n      <td>3</td>\n    </tr>\n    <tr>\n      <th>3</th>\n      <td>55</td>\n      <td>services</td>\n      <td>married</td>\n      <td>secondary</td>\n      <td>no</td>\n      <td>2476</td>\n      <td>yes</td>\n      <td>no</td>\n      <td>unknown</td>\n      <td>5</td>\n      <td>may</td>\n      <td>579</td>\n      <td>1</td>\n      <td>-1</td>\n      <td>0</td>\n      <td>unknown</td>\n      <td>yes</td>\n      <td>4</td>\n    </tr>\n    <tr>\n      <th>4</th>\n      <td>54</td>\n      <td>admin.</td>\n      <td>married</td>\n      <td>tertiary</td>\n      <td>no</td>\n      <td>184</td>\n      <td>no</td>\n      <td>no</td>\n      <td>unknown</td>\n      <td>5</td>\n      <td>may</td>\n      <td>673</td>\n      <td>2</td>\n      <td>-1</td>\n      <td>0</td>\n      <td>unknown</td>\n      <td>yes</td>\n      <td>5</td>\n    </tr>\n  </tbody>\n</table>\n</div>"
          },
          "metadata": {}
        }
      ],
      "execution_count": 146,
      "metadata": {
        "jupyter": {
          "source_hidden": false,
          "outputs_hidden": false
        },
        "nteract": {
          "transient": {
            "deleting": false
          }
        },
        "gather": {
          "logged": 1658348554540
        },
        "ms_comments": [
          {
            "threadId": "17e08237-bd5d-42a8-a089-c48c40f355e7",
            "text": "I will change this to Keypair after the notebook is completed",
            "status": "resolved",
            "user": {
              "name": "Shankar Narayanan Ganapathy",
              "idType": "aad"
            },
            "createdDateUTC": 1660067277142,
            "modifiedDateUTC": 1661759158405,
            "replies": []
          }
        ],
        "ms_comment_ranges": {
          "17e08237-bd5d-42a8-a089-c48c40f355e7": {
            "text": "connect",
            "start": {
              "line": 1,
              "column": 27
            },
            "end": {
              "line": 1,
              "column": 34
            }
          }
        }
      }
    },
    {
      "cell_type": "markdown",
      "source": [
        "# The first thing we should do is convert our target from categorical to a binary value\r\n",
        "#### This allows us to group by the target and better understand how the features relate to it.\r\n"
      ],
      "metadata": {
        "nteract": {
          "transient": {
            "deleting": false
          }
        }
      }
    },
    {
      "cell_type": "code",
      "source": [
        "## map the target variable to 1 or 0\r\n",
        "df['DEFAULT_STATUS'] = np.where(df.DEFAULT == 'yes', 1, 0)\r\n",
        "## drop the original column\r\n",
        "df.drop(columns='DEFAULT', inplace=True)"
      ],
      "outputs": [],
      "execution_count": 147,
      "metadata": {
        "jupyter": {
          "source_hidden": false,
          "outputs_hidden": false
        },
        "nteract": {
          "transient": {
            "deleting": false
          }
        }
      }
    },
    {
      "cell_type": "markdown",
      "source": [
        "# Exploratory Data Analysis\r\n",
        "#### Exlploratory Data Analysis (EDA) is a process that data scientists apply to investigate, profile, test hypothesis, summarize, and visualize a dataset. In our dataset, we apply the following EDA methods:\r\n",
        "\r\n",
        "- Use summary statistics to describe the dataframe\r\n",
        "- Check for class imbalance\r\n",
        "- Summarize data based on multiple variables\r\n",
        "- Visualize using Bar Charts & Histograms\r\n",
        "- Correlation Matrix"
      ],
      "metadata": {
        "nteract": {
          "transient": {
            "deleting": false
          }
        }
      }
    },
    {
      "cell_type": "markdown",
      "source": [
        "# Summary Statistics"
      ],
      "metadata": {
        "nteract": {
          "transient": {
            "deleting": false
          }
        }
      }
    },
    {
      "cell_type": "code",
      "source": [
        "df.describe()"
      ],
      "outputs": [
        {
          "output_type": "execute_result",
          "execution_count": 148,
          "data": {
            "text/plain": "                AGE       BALANCE      DURATION         PDAYS      PREVIOUS  \\\ncount  11162.000000  11162.000000  11162.000000  11162.000000  11162.000000   \nmean      41.231948   1528.538524    371.993818     51.330407      0.832557   \nstd       11.913369   3225.413326    347.128386    108.758282      2.292007   \nmin       18.000000  -6847.000000      2.000000     -1.000000      0.000000   \n25%       32.000000    122.000000    138.000000     -1.000000      0.000000   \n50%       39.000000    550.000000    255.000000     -1.000000      0.000000   \n75%       49.000000   1708.000000    496.000000     20.750000      1.000000   \nmax       95.000000  81204.000000   3881.000000    854.000000     58.000000   \n\n         CUSTOMERID  DEFAULT_STATUS  \ncount  11162.000000    11162.000000  \nmean    5581.500000        0.015051  \nstd     3222.336187        0.121761  \nmin        1.000000        0.000000  \n25%     2791.250000        0.000000  \n50%     5581.500000        0.000000  \n75%     8371.750000        0.000000  \nmax    11162.000000        1.000000  ",
            "text/html": "<div>\n<style scoped>\n    .dataframe tbody tr th:only-of-type {\n        vertical-align: middle;\n    }\n\n    .dataframe tbody tr th {\n        vertical-align: top;\n    }\n\n    .dataframe thead th {\n        text-align: right;\n    }\n</style>\n<table border=\"1\" class=\"dataframe\">\n  <thead>\n    <tr style=\"text-align: right;\">\n      <th></th>\n      <th>AGE</th>\n      <th>BALANCE</th>\n      <th>DURATION</th>\n      <th>PDAYS</th>\n      <th>PREVIOUS</th>\n      <th>CUSTOMERID</th>\n      <th>DEFAULT_STATUS</th>\n    </tr>\n  </thead>\n  <tbody>\n    <tr>\n      <th>count</th>\n      <td>11162.000000</td>\n      <td>11162.000000</td>\n      <td>11162.000000</td>\n      <td>11162.000000</td>\n      <td>11162.000000</td>\n      <td>11162.000000</td>\n      <td>11162.000000</td>\n    </tr>\n    <tr>\n      <th>mean</th>\n      <td>41.231948</td>\n      <td>1528.538524</td>\n      <td>371.993818</td>\n      <td>51.330407</td>\n      <td>0.832557</td>\n      <td>5581.500000</td>\n      <td>0.015051</td>\n    </tr>\n    <tr>\n      <th>std</th>\n      <td>11.913369</td>\n      <td>3225.413326</td>\n      <td>347.128386</td>\n      <td>108.758282</td>\n      <td>2.292007</td>\n      <td>3222.336187</td>\n      <td>0.121761</td>\n    </tr>\n    <tr>\n      <th>min</th>\n      <td>18.000000</td>\n      <td>-6847.000000</td>\n      <td>2.000000</td>\n      <td>-1.000000</td>\n      <td>0.000000</td>\n      <td>1.000000</td>\n      <td>0.000000</td>\n    </tr>\n    <tr>\n      <th>25%</th>\n      <td>32.000000</td>\n      <td>122.000000</td>\n      <td>138.000000</td>\n      <td>-1.000000</td>\n      <td>0.000000</td>\n      <td>2791.250000</td>\n      <td>0.000000</td>\n    </tr>\n    <tr>\n      <th>50%</th>\n      <td>39.000000</td>\n      <td>550.000000</td>\n      <td>255.000000</td>\n      <td>-1.000000</td>\n      <td>0.000000</td>\n      <td>5581.500000</td>\n      <td>0.000000</td>\n    </tr>\n    <tr>\n      <th>75%</th>\n      <td>49.000000</td>\n      <td>1708.000000</td>\n      <td>496.000000</td>\n      <td>20.750000</td>\n      <td>1.000000</td>\n      <td>8371.750000</td>\n      <td>0.000000</td>\n    </tr>\n    <tr>\n      <th>max</th>\n      <td>95.000000</td>\n      <td>81204.000000</td>\n      <td>3881.000000</td>\n      <td>854.000000</td>\n      <td>58.000000</td>\n      <td>11162.000000</td>\n      <td>1.000000</td>\n    </tr>\n  </tbody>\n</table>\n</div>"
          },
          "metadata": {}
        }
      ],
      "execution_count": 148,
      "metadata": {
        "jupyter": {
          "source_hidden": false,
          "outputs_hidden": false
        },
        "nteract": {
          "transient": {
            "deleting": false
          }
        },
        "ms_comments": [
          {
            "threadId": "987d9472-441a-4810-9d8b-bf7996394c6e",
            "text": "Can we add some more simple EDA things?",
            "status": "resolved",
            "user": {
              "name": "Shankar Narayanan Ganapathy",
              "idType": "aad"
            },
            "createdDateUTC": 1660067375479,
            "modifiedDateUTC": 1661759164178,
            "replies": [
              {
                "replyId": "611904a2-8d2c-423e-bcc0-0bc88b2e1346",
                "text": "will add charts and basic eda stuff later today",
                "user": {
                  "name": "Mash Syed",
                  "idType": "aad"
                },
                "createdDateUTC": 1660328605386,
                "modifiedDateUTC": 1660328605386
              },
              {
                "replyId": "e8e4052c-5196-4368-8e3c-6e334f2bc40e",
                "text": "Hey added some EDA stuff, take a look and let me know what you think",
                "user": {
                  "name": "Mash Syed",
                  "idType": "aad"
                },
                "createdDateUTC": 1660511932680,
                "modifiedDateUTC": 1660511932680
              }
            ]
          }
        ],
        "ms_comment_ranges": {
          "987d9472-441a-4810-9d8b-bf7996394c6e": {
            "text": "describe()",
            "start": {
              "line": 1,
              "column": 4
            },
            "end": {
              "line": 1,
              "column": 14
            }
          }
        }
      }
    },
    {
      "cell_type": "markdown",
      "source": [
        "# Check Target Variable For Class Imbalance\r\n",
        "#### Classes are heavily imbalanced with a default rate of only 1.5%."
      ],
      "metadata": {
        "nteract": {
          "transient": {
            "deleting": false
          }
        }
      }
    },
    {
      "cell_type": "code",
      "source": [
        "df.DEFAULT_STATUS.value_counts()"
      ],
      "outputs": [
        {
          "output_type": "execute_result",
          "execution_count": 149,
          "data": {
            "text/plain": "0    10994\n1      168\nName: DEFAULT_STATUS, dtype: int64"
          },
          "metadata": {}
        }
      ],
      "execution_count": 149,
      "metadata": {
        "jupyter": {
          "source_hidden": false,
          "outputs_hidden": false
        },
        "nteract": {
          "transient": {
            "deleting": false
          }
        }
      }
    },
    {
      "cell_type": "code",
      "source": [
        "print('Default rate is:', str(round((df[df.DEFAULT_STATUS == 1].CUSTOMERID.count() / df.CUSTOMERID.count())*100, 1)) + '%') "
      ],
      "outputs": [
        {
          "output_type": "stream",
          "name": "stdout",
          "text": "Default rate is: 1.5%\n"
        }
      ],
      "execution_count": 150,
      "metadata": {
        "jupyter": {
          "source_hidden": false,
          "outputs_hidden": false
        },
        "nteract": {
          "transient": {
            "deleting": false
          }
        }
      }
    },
    {
      "cell_type": "markdown",
      "source": [
        "# Summarize Variables by Default Status\r\n",
        "#### Below we can see that there is a significant difference in the 'BALANCE', 'PDAYS', AND 'PREVIOUS' columns between customers that default and those that dont."
      ],
      "metadata": {
        "nteract": {
          "transient": {
            "deleting": false
          }
        }
      }
    },
    {
      "cell_type": "code",
      "source": [
        "df.groupby('DEFAULT_STATUS').mean().reset_index()"
      ],
      "outputs": [
        {
          "output_type": "execute_result",
          "execution_count": 151,
          "data": {
            "text/plain": "   DEFAULT_STATUS        AGE      BALANCE    DURATION      PDAYS  PREVIOUS  \\\n0               0  41.248772  1552.840640  372.412589  51.818174  0.842550   \n1               1  40.130952   -61.803571  344.589286  19.410714  0.178571   \n\n    CUSTOMERID  \n0  5569.350737  \n1  6376.553571  ",
            "text/html": "<div>\n<style scoped>\n    .dataframe tbody tr th:only-of-type {\n        vertical-align: middle;\n    }\n\n    .dataframe tbody tr th {\n        vertical-align: top;\n    }\n\n    .dataframe thead th {\n        text-align: right;\n    }\n</style>\n<table border=\"1\" class=\"dataframe\">\n  <thead>\n    <tr style=\"text-align: right;\">\n      <th></th>\n      <th>DEFAULT_STATUS</th>\n      <th>AGE</th>\n      <th>BALANCE</th>\n      <th>DURATION</th>\n      <th>PDAYS</th>\n      <th>PREVIOUS</th>\n      <th>CUSTOMERID</th>\n    </tr>\n  </thead>\n  <tbody>\n    <tr>\n      <th>0</th>\n      <td>0</td>\n      <td>41.248772</td>\n      <td>1552.840640</td>\n      <td>372.412589</td>\n      <td>51.818174</td>\n      <td>0.842550</td>\n      <td>5569.350737</td>\n    </tr>\n    <tr>\n      <th>1</th>\n      <td>1</td>\n      <td>40.130952</td>\n      <td>-61.803571</td>\n      <td>344.589286</td>\n      <td>19.410714</td>\n      <td>0.178571</td>\n      <td>6376.553571</td>\n    </tr>\n  </tbody>\n</table>\n</div>"
          },
          "metadata": {}
        }
      ],
      "execution_count": 151,
      "metadata": {
        "jupyter": {
          "source_hidden": false,
          "outputs_hidden": false
        },
        "nteract": {
          "transient": {
            "deleting": false
          }
        }
      }
    },
    {
      "cell_type": "code",
      "source": [
        "df.groupby('DEFAULT_STATUS').mean().reset_index().plot(kind='bar', x='DEFAULT_STATUS', y='BALANCE', rot=0, figsize=(12,6))"
      ],
      "outputs": [
        {
          "output_type": "execute_result",
          "execution_count": 152,
          "data": {
            "text/plain": "<matplotlib.axes._subplots.AxesSubplot at 0x7fd7cedc00d0>"
          },
          "metadata": {}
        },
        {
          "output_type": "display_data",
          "data": {
            "text/plain": "<Figure size 864x432 with 1 Axes>",
            "image/png": "[encoded data removed]"
          },
          "metadata": {
            "needs_background": "light"
          }
        }
      ],
      "execution_count": 152,
      "metadata": {
        "jupyter": {
          "source_hidden": false,
          "outputs_hidden": false
        },
        "nteract": {
          "transient": {
            "deleting": false
          }
        }
      }
    },
    {
      "cell_type": "code",
      "source": [
        "df.groupby('DEFAULT_STATUS').mean().reset_index().plot(kind='bar', x='DEFAULT_STATUS', y='PDAYS', rot=0, figsize=(12,6))"
      ],
      "outputs": [
        {
          "output_type": "execute_result",
          "execution_count": 153,
          "data": {
            "text/plain": "<matplotlib.axes._subplots.AxesSubplot at 0x7fd7ccaf7550>"
          },
          "metadata": {}
        },
        {
          "output_type": "display_data",
          "data": {
            "text/plain": "<Figure size 864x432 with 1 Axes>",
            "image/png": "[encoded data removed]"
          },
          "metadata": {
            "needs_background": "light"
          }
        }
      ],
      "execution_count": 153,
      "metadata": {
        "jupyter": {
          "source_hidden": false,
          "outputs_hidden": false
        },
        "nteract": {
          "transient": {
            "deleting": false
          }
        }
      }
    },
    {
      "cell_type": "markdown",
      "source": [
        "# Aggregate The Data By Education, Default Status\r\n",
        "#### Determining a significant different in BALANCE when factoring in EDUCATION."
      ],
      "metadata": {
        "nteract": {
          "transient": {
            "deleting": false
          }
        }
      }
    },
    {
      "cell_type": "code",
      "source": [
        "df[['EDUCATION', 'DEFAULT_STATUS', 'BALANCE']].groupby(['EDUCATION', 'DEFAULT_STATUS']).mean().reset_index() #.rename(columns={'CUSTOMERID':'COUNT'})"
      ],
      "outputs": [
        {
          "output_type": "execute_result",
          "execution_count": 154,
          "data": {
            "text/plain": "   EDUCATION  DEFAULT_STATUS      BALANCE\n0    primary               0  1554.713120\n1    primary               1   -84.000000\n2  secondary               0  1316.348535\n3  secondary               1   -10.463415\n4   tertiary               0  1871.866246\n5   tertiary               1  -126.125000\n6    unknown               0  1780.938525\n7    unknown               1  -115.000000",
            "text/html": "<div>\n<style scoped>\n    .dataframe tbody tr th:only-of-type {\n        vertical-align: middle;\n    }\n\n    .dataframe tbody tr th {\n        vertical-align: top;\n    }\n\n    .dataframe thead th {\n        text-align: right;\n    }\n</style>\n<table border=\"1\" class=\"dataframe\">\n  <thead>\n    <tr style=\"text-align: right;\">\n      <th></th>\n      <th>EDUCATION</th>\n      <th>DEFAULT_STATUS</th>\n      <th>BALANCE</th>\n    </tr>\n  </thead>\n  <tbody>\n    <tr>\n      <th>0</th>\n      <td>primary</td>\n      <td>0</td>\n      <td>1554.713120</td>\n    </tr>\n    <tr>\n      <th>1</th>\n      <td>primary</td>\n      <td>1</td>\n      <td>-84.000000</td>\n    </tr>\n    <tr>\n      <th>2</th>\n      <td>secondary</td>\n      <td>0</td>\n      <td>1316.348535</td>\n    </tr>\n    <tr>\n      <th>3</th>\n      <td>secondary</td>\n      <td>1</td>\n      <td>-10.463415</td>\n    </tr>\n    <tr>\n      <th>4</th>\n      <td>tertiary</td>\n      <td>0</td>\n      <td>1871.866246</td>\n    </tr>\n    <tr>\n      <th>5</th>\n      <td>tertiary</td>\n      <td>1</td>\n      <td>-126.125000</td>\n    </tr>\n    <tr>\n      <th>6</th>\n      <td>unknown</td>\n      <td>0</td>\n      <td>1780.938525</td>\n    </tr>\n    <tr>\n      <th>7</th>\n      <td>unknown</td>\n      <td>1</td>\n      <td>-115.000000</td>\n    </tr>\n  </tbody>\n</table>\n</div>"
          },
          "metadata": {}
        }
      ],
      "execution_count": 154,
      "metadata": {
        "jupyter": {
          "source_hidden": false,
          "outputs_hidden": false
        },
        "nteract": {
          "transient": {
            "deleting": false
          }
        }
      }
    },
    {
      "cell_type": "markdown",
      "source": [
        "# Correlation Matrix\r\n",
        "#### Not a strong correlation between any of the numeric features and the target column ('DEFAULT_STATUS')."
      ],
      "metadata": {
        "nteract": {
          "transient": {
            "deleting": false
          }
        }
      }
    },
    {
      "cell_type": "code",
      "source": [
        "df.corr()"
      ],
      "outputs": [
        {
          "output_type": "execute_result",
          "execution_count": 155,
          "data": {
            "text/plain": "                     AGE   BALANCE  DURATION     PDAYS  PREVIOUS  CUSTOMERID  \\\nAGE             1.000000  0.112300  0.000189  0.002774  0.020169   -0.019550   \nBALANCE         0.112300  1.000000  0.022436  0.017411  0.030805   -0.051580   \nDURATION        0.000189  0.022436  1.000000 -0.027392 -0.026716   -0.454749   \nPDAYS           0.002774  0.017411 -0.027392  1.000000  0.507272   -0.072481   \nPREVIOUS        0.020169  0.030805 -0.026716  0.507272  1.000000   -0.069119   \nCUSTOMERID     -0.019550 -0.051580 -0.454749 -0.072481 -0.069119    1.000000   \nDEFAULT_STATUS -0.011425 -0.060954 -0.009760 -0.036282 -0.035273    0.030502   \n\n                DEFAULT_STATUS  \nAGE                  -0.011425  \nBALANCE              -0.060954  \nDURATION             -0.009760  \nPDAYS                -0.036282  \nPREVIOUS             -0.035273  \nCUSTOMERID            0.030502  \nDEFAULT_STATUS        1.000000  ",
            "text/html": "<div>\n<style scoped>\n    .dataframe tbody tr th:only-of-type {\n        vertical-align: middle;\n    }\n\n    .dataframe tbody tr th {\n        vertical-align: top;\n    }\n\n    .dataframe thead th {\n        text-align: right;\n    }\n</style>\n<table border=\"1\" class=\"dataframe\">\n  <thead>\n    <tr style=\"text-align: right;\">\n      <th></th>\n      <th>AGE</th>\n      <th>BALANCE</th>\n      <th>DURATION</th>\n      <th>PDAYS</th>\n      <th>PREVIOUS</th>\n      <th>CUSTOMERID</th>\n      <th>DEFAULT_STATUS</th>\n    </tr>\n  </thead>\n  <tbody>\n    <tr>\n      <th>AGE</th>\n      <td>1.000000</td>\n      <td>0.112300</td>\n      <td>0.000189</td>\n      <td>0.002774</td>\n      <td>0.020169</td>\n      <td>-0.019550</td>\n      <td>-0.011425</td>\n    </tr>\n    <tr>\n      <th>BALANCE</th>\n      <td>0.112300</td>\n      <td>1.000000</td>\n      <td>0.022436</td>\n      <td>0.017411</td>\n      <td>0.030805</td>\n      <td>-0.051580</td>\n      <td>-0.060954</td>\n    </tr>\n    <tr>\n      <th>DURATION</th>\n      <td>0.000189</td>\n      <td>0.022436</td>\n      <td>1.000000</td>\n      <td>-0.027392</td>\n      <td>-0.026716</td>\n      <td>-0.454749</td>\n      <td>-0.009760</td>\n    </tr>\n    <tr>\n      <th>PDAYS</th>\n      <td>0.002774</td>\n      <td>0.017411</td>\n      <td>-0.027392</td>\n      <td>1.000000</td>\n      <td>0.507272</td>\n      <td>-0.072481</td>\n      <td>-0.036282</td>\n    </tr>\n    <tr>\n      <th>PREVIOUS</th>\n      <td>0.020169</td>\n      <td>0.030805</td>\n      <td>-0.026716</td>\n      <td>0.507272</td>\n      <td>1.000000</td>\n      <td>-0.069119</td>\n      <td>-0.035273</td>\n    </tr>\n    <tr>\n      <th>CUSTOMERID</th>\n      <td>-0.019550</td>\n      <td>-0.051580</td>\n      <td>-0.454749</td>\n      <td>-0.072481</td>\n      <td>-0.069119</td>\n      <td>1.000000</td>\n      <td>0.030502</td>\n    </tr>\n    <tr>\n      <th>DEFAULT_STATUS</th>\n      <td>-0.011425</td>\n      <td>-0.060954</td>\n      <td>-0.009760</td>\n      <td>-0.036282</td>\n      <td>-0.035273</td>\n      <td>0.030502</td>\n      <td>1.000000</td>\n    </tr>\n  </tbody>\n</table>\n</div>"
          },
          "metadata": {}
        }
      ],
      "execution_count": 155,
      "metadata": {
        "jupyter": {
          "source_hidden": false,
          "outputs_hidden": false
        },
        "nteract": {
          "transient": {
            "deleting": false
          }
        }
      }
    },
    {
      "cell_type": "markdown",
      "source": [
        "# Plot Histogram\r\n",
        "#### By plotting overlapping histograms of customer account balances, we can see the distribution of values for the account balance variable for customers that default vs. those that dont. It's clear that customers that dont default have most or all of their values that are greater than 0 while customers that do default show a significant."
      ],
      "metadata": {
        "nteract": {
          "transient": {
            "deleting": false
          }
        }
      }
    },
    {
      "cell_type": "code",
      "source": [
        "df_hist_1 = df[df.DEFAULT_STATUS == 1].BALANCE\r\n",
        "df_hist_0 = df[df.DEFAULT_STATUS == 0].BALANCE.sample(200)\r\n",
        "plt.figure(figsize=(16,6))\r\n",
        "plt.hist(df_hist_0, bins=40, alpha=0.3, label=\"No Default\")\r\n",
        "plt.hist(df_hist_1, bins=40, alpha=0.5, label=\"Default\")\r\n",
        "plt.xlabel(\"Balance\", size=14)\r\n",
        "plt.ylabel(\"Count\", size=14)\r\n",
        "plt.title(\"Distribution of Customer Account Balances\")\r\n",
        "plt.legend(loc='upper right')"
      ],
      "outputs": [
        {
          "output_type": "execute_result",
          "execution_count": 156,
          "data": {
            "text/plain": "<matplotlib.legend.Legend at 0x7fd7cea41b50>"
          },
          "metadata": {}
        },
        {
          "output_type": "display_data",
          "data": {
            "text/plain": "<Figure size 1152x432 with 1 Axes>",
            "image/png": "[encoded data removed]"
          },
          "metadata": {
            "needs_background": "light"
          }
        }
      ],
      "execution_count": 156,
      "metadata": {
        "jupyter": {
          "source_hidden": false,
          "outputs_hidden": false
        },
        "nteract": {
          "transient": {
            "deleting": false
          }
        }
      }
    },
    {
      "cell_type": "markdown",
      "source": [
        "# Feature Engineering\r\n",
        "#### Feature Engineering is the process of transforming your raw data into something more valuable that can help the algorithm predict your outcome. In our dataset, this means two things:\r\n",
        "- Turn categorical columns into binary using the get_dummies function in pandas\r\n",
        "- Rescale numeric columns using the MinMaxScaler function"
      ],
      "metadata": {
        "nteract": {
          "transient": {
            "deleting": false
          }
        }
      }
    },
    {
      "cell_type": "code",
      "source": [
        "## create function to tranform numeric and categorical features\r\n",
        "## provide the dataframe and the name of the target column\r\n",
        "def create_features(df, target_col_name, id_col_name): \r\n",
        "    # remove the target col before transformation\r\n",
        "    df_temp = df.loc[:, ~df.columns.isin([target_col_name, id_col_name])]\r\n",
        "    ## For numerics we use min-max rescaling, for categorical we use get_dummies in pandas\r\n",
        "    scaler = MinMaxScaler()\r\n",
        "    ## Here we chain multiple functions together, we transform both numeric and categorial features and join back the target column\r\n",
        "    df_transformed = pd.DataFrame(scaler.fit_transform(df_temp.select_dtypes(include='number')), \r\n",
        "                                        columns=df_temp.select_dtypes(include='number').columns.tolist()).join(pd.get_dummies(df_temp.select_dtypes(include='object'))).join(df[[target_col_name, id_col_name]])\r\n",
        "    \r\n",
        "    df_transformed.columns = [x.upper() for x in df_transformed.columns]\r\n",
        "    return df_transformed"
      ],
      "outputs": [],
      "execution_count": 157,
      "metadata": {
        "jupyter": {
          "source_hidden": false,
          "outputs_hidden": false
        },
        "nteract": {
          "transient": {
            "deleting": false
          }
        }
      }
    },
    {
      "cell_type": "code",
      "source": [
        "df_transformed = create_features(df, 'DEFAULT_STATUS', 'CUSTOMERID')\r\n",
        "df_transformed.head()"
      ],
      "outputs": [
        {
          "output_type": "execute_result",
          "execution_count": 158,
          "data": {
            "text/plain": "        AGE   BALANCE  DURATION  PDAYS  PREVIOUS  JOB_ADMIN.  JOB_BLUE-COLLAR  \\\n0  0.532468  0.104371  0.268110    0.0       0.0           1                0   \n1  0.493506  0.078273  0.377675    0.0       0.0           1                0   \n2  0.298701  0.092185  0.357566    0.0       0.0           0                0   \n3  0.480519  0.105882  0.148750    0.0       0.0           0                0   \n4  0.467532  0.079851  0.172983    0.0       0.0           1                0   \n\n   JOB_ENTREPRENEUR  JOB_HOUSEMAID  JOB_MANAGEMENT  ...  CAMPAIGN_8  \\\n0                 0              0               0  ...           0   \n1                 0              0               0  ...           0   \n2                 0              0               0  ...           0   \n3                 0              0               0  ...           0   \n4                 0              0               0  ...           0   \n\n   CAMPAIGN_9  POUTCOME_FAILURE  POUTCOME_OTHER  POUTCOME_SUCCESS  \\\n0           0                 0               0                 0   \n1           0                 0               0                 0   \n2           0                 0               0                 0   \n3           0                 0               0                 0   \n4           0                 0               0                 0   \n\n   POUTCOME_UNKNOWN  DEPOSIT_NO  DEPOSIT_YES  DEFAULT_STATUS  CUSTOMERID  \n0                 1           0            1               0           1  \n1                 1           0            1               0           2  \n2                 1           0            1               0           3  \n3                 1           0            1               0           4  \n4                 1           0            1               0           5  \n\n[5 rows x 118 columns]",
            "text/html": "<div>\n<style scoped>\n    .dataframe tbody tr th:only-of-type {\n        vertical-align: middle;\n    }\n\n    .dataframe tbody tr th {\n        vertical-align: top;\n    }\n\n    .dataframe thead th {\n        text-align: right;\n    }\n</style>\n<table border=\"1\" class=\"dataframe\">\n  <thead>\n    <tr style=\"text-align: right;\">\n      <th></th>\n      <th>AGE</th>\n      <th>BALANCE</th>\n      <th>DURATION</th>\n      <th>PDAYS</th>\n      <th>PREVIOUS</th>\n      <th>JOB_ADMIN.</th>\n      <th>JOB_BLUE-COLLAR</th>\n      <th>JOB_ENTREPRENEUR</th>\n      <th>JOB_HOUSEMAID</th>\n      <th>JOB_MANAGEMENT</th>\n      <th>...</th>\n      <th>CAMPAIGN_8</th>\n      <th>CAMPAIGN_9</th>\n      <th>POUTCOME_FAILURE</th>\n      <th>POUTCOME_OTHER</th>\n      <th>POUTCOME_SUCCESS</th>\n      <th>POUTCOME_UNKNOWN</th>\n      <th>DEPOSIT_NO</th>\n      <th>DEPOSIT_YES</th>\n      <th>DEFAULT_STATUS</th>\n      <th>CUSTOMERID</th>\n    </tr>\n  </thead>\n  <tbody>\n    <tr>\n      <th>0</th>\n      <td>0.532468</td>\n      <td>0.104371</td>\n      <td>0.268110</td>\n      <td>0.0</td>\n      <td>0.0</td>\n      <td>1</td>\n      <td>0</td>\n      <td>0</td>\n      <td>0</td>\n      <td>0</td>\n      <td>...</td>\n      <td>0</td>\n      <td>0</td>\n      <td>0</td>\n      <td>0</td>\n      <td>0</td>\n      <td>1</td>\n      <td>0</td>\n      <td>1</td>\n      <td>0</td>\n      <td>1</td>\n    </tr>\n    <tr>\n      <th>1</th>\n      <td>0.493506</td>\n      <td>0.078273</td>\n      <td>0.377675</td>\n      <td>0.0</td>\n      <td>0.0</td>\n      <td>1</td>\n      <td>0</td>\n      <td>0</td>\n      <td>0</td>\n      <td>0</td>\n      <td>...</td>\n      <td>0</td>\n      <td>0</td>\n      <td>0</td>\n      <td>0</td>\n      <td>0</td>\n      <td>1</td>\n      <td>0</td>\n      <td>1</td>\n      <td>0</td>\n      <td>2</td>\n    </tr>\n    <tr>\n      <th>2</th>\n      <td>0.298701</td>\n      <td>0.092185</td>\n      <td>0.357566</td>\n      <td>0.0</td>\n      <td>0.0</td>\n      <td>0</td>\n      <td>0</td>\n      <td>0</td>\n      <td>0</td>\n      <td>0</td>\n      <td>...</td>\n      <td>0</td>\n      <td>0</td>\n      <td>0</td>\n      <td>0</td>\n      <td>0</td>\n      <td>1</td>\n      <td>0</td>\n      <td>1</td>\n      <td>0</td>\n      <td>3</td>\n    </tr>\n    <tr>\n      <th>3</th>\n      <td>0.480519</td>\n      <td>0.105882</td>\n      <td>0.148750</td>\n      <td>0.0</td>\n      <td>0.0</td>\n      <td>0</td>\n      <td>0</td>\n      <td>0</td>\n      <td>0</td>\n      <td>0</td>\n      <td>...</td>\n      <td>0</td>\n      <td>0</td>\n      <td>0</td>\n      <td>0</td>\n      <td>0</td>\n      <td>1</td>\n      <td>0</td>\n      <td>1</td>\n      <td>0</td>\n      <td>4</td>\n    </tr>\n    <tr>\n      <th>4</th>\n      <td>0.467532</td>\n      <td>0.079851</td>\n      <td>0.172983</td>\n      <td>0.0</td>\n      <td>0.0</td>\n      <td>1</td>\n      <td>0</td>\n      <td>0</td>\n      <td>0</td>\n      <td>0</td>\n      <td>...</td>\n      <td>0</td>\n      <td>0</td>\n      <td>0</td>\n      <td>0</td>\n      <td>0</td>\n      <td>1</td>\n      <td>0</td>\n      <td>1</td>\n      <td>0</td>\n      <td>5</td>\n    </tr>\n  </tbody>\n</table>\n<p>5 rows × 118 columns</p>\n</div>"
          },
          "metadata": {}
        }
      ],
      "execution_count": 158,
      "metadata": {
        "jupyter": {
          "source_hidden": false,
          "outputs_hidden": false
        },
        "nteract": {
          "transient": {
            "deleting": false
          }
        }
      }
    },
    {
      "cell_type": "markdown",
      "source": [
        "# Write features back to Snowflake For Batch Inference\r\n",
        "#### We use SQLAlchemy since it doesn't require a pre-defined schema. In our transformed dataframe, we go from 16 columns to 118 columns\r\n",
        "\r\n",
        "#### References: \r\n",
        "- https://docs.snowflake.com/en/user-guide/sqlalchemy.html\r\n",
        "- https://stephenallwright.com/python-connector-write-pandas-snowflake/\r\n",
        "- https://stephenallwright.com/write-to-snowflake-from-pandas-dataframe/"
      ],
      "metadata": {
        "nteract": {
          "transient": {
            "deleting": false
          }
        }
      }
    },
    {
      "cell_type": "code",
      "source": [
        "engine = create_engine(URL(\n",
        "    account=sfaccount + '.west-us-2.azure',\n",
        "    user=sfuser,\n",
        "    password=sfpasswd,\n",
        "    role='ACCOUNTADMIN',\n",
        "    warehouse='COMPUTE_WH',\n",
        "    database='DEMO',      \n",
        "    schema ='SOURCE_DATA',\n",
        "    autocommit=True\n",
        "    ))\n",
        "\n",
        "tbl_name = 'banking_customers_features'\n",
        "\n",
        "## drop table if it exists since replace doesnt work in sqlalchemy\n",
        "# Execute a statement that will generate a result set.\n",
        "sql = \"drop table if exists \" + tbl_name\n",
        "cur.execute(sql)\n",
        "\n",
        "df_transformed.to_sql(con = engine, \n",
        "                    name = tbl_name, \n",
        "                    if_exists='replace', #other possible values are 'append' and 'fail',\n",
        "                    schema='SOURCE_DATA',\n",
        "                    index=False)"
      ],
      "outputs": [],
      "execution_count": 162,
      "metadata": {
        "jupyter": {
          "source_hidden": false,
          "outputs_hidden": false
        },
        "nteract": {
          "transient": {
            "deleting": false
          }
        }
      }
    },
    {
      "cell_type": "markdown",
      "source": [
        "# Split Data Into Train and Test Sets"
      ],
      "metadata": {
        "application/vnd.databricks.v1+cell": {
          "title": "",
          "showTitle": false,
          "inputWidgets": {},
          "nuid": "a9790b14-49be-4050-b211-402ce198c7f7"
        }
      }
    },
    {
      "cell_type": "code",
      "source": [
        "X = np.array(np.array(df_transformed.loc[:, df_transformed.columns != 'DEFAULT_STATUS']))\r\n",
        "y = np.array(df_transformed['DEFAULT_STATUS'])\r\n",
        "\r\n",
        "# train/test split\r\n",
        "X_train, X_test, y_train, y_test = train_test_split(X, y, test_size=.10, random_state=42)"
      ],
      "outputs": [],
      "execution_count": 163,
      "metadata": {
        "jupyter": {
          "source_hidden": false,
          "outputs_hidden": false
        },
        "nteract": {
          "transient": {
            "deleting": false
          }
        }
      }
    },
    {
      "cell_type": "markdown",
      "source": [
        "# Fit the Transformed Features To a Model"
      ],
      "metadata": {
        "nteract": {
          "transient": {
            "deleting": false
          }
        }
      }
    },
    {
      "cell_type": "code",
      "source": [
        "## instantiate a base model with no tuning to hyperparameters\r\n",
        "model = RandomForestClassifier(random_state=0, n_jobs=-1)\r\n",
        "print(model)"
      ],
      "outputs": [
        {
          "output_type": "stream",
          "name": "stdout",
          "text": "RandomForestClassifier(bootstrap=True, ccp_alpha=0.0, class_weight=None,\n                       criterion='gini', max_depth=None, max_features='auto',\n                       max_leaf_nodes=None, max_samples=None,\n                       min_impurity_decrease=0.0, min_impurity_split=None,\n                       min_samples_leaf=1, min_samples_split=2,\n                       min_weight_fraction_leaf=0.0, n_estimators=100,\n                       n_jobs=-1, oob_score=False, random_state=0, verbose=0,\n                       warm_start=False)\n"
        }
      ],
      "execution_count": 164,
      "metadata": {
        "jupyter": {
          "source_hidden": false,
          "outputs_hidden": false
        },
        "nteract": {
          "transient": {
            "deleting": false
          }
        }
      }
    },
    {
      "cell_type": "code",
      "source": [
        "# train the model on the training data set\r\n",
        "model.fit(X_train, y_train)"
      ],
      "outputs": [
        {
          "output_type": "execute_result",
          "execution_count": 165,
          "data": {
            "text/plain": "RandomForestClassifier(bootstrap=True, ccp_alpha=0.0, class_weight=None,\n                       criterion='gini', max_depth=None, max_features='auto',\n                       max_leaf_nodes=None, max_samples=None,\n                       min_impurity_decrease=0.0, min_impurity_split=None,\n                       min_samples_leaf=1, min_samples_split=2,\n                       min_weight_fraction_leaf=0.0, n_estimators=100,\n                       n_jobs=-1, oob_score=False, random_state=0, verbose=0,\n                       warm_start=False)"
          },
          "metadata": {}
        }
      ],
      "execution_count": 165,
      "metadata": {
        "jupyter": {
          "source_hidden": false,
          "outputs_hidden": false
        },
        "nteract": {
          "transient": {
            "deleting": false
          }
        }
      }
    },
    {
      "cell_type": "markdown",
      "source": [
        "# Score The Model Using 5-Fold Cross Validation"
      ],
      "metadata": {
        "nteract": {
          "transient": {
            "deleting": false
          }
        }
      }
    },
    {
      "cell_type": "code",
      "source": [
        "## score the model\r\n",
        "scores = cross_val_score(model, X_train, y_train, cv=5)\r\n",
        "print(\"Mean cross-validation score: %.2f\" % scores.mean())"
      ],
      "outputs": [
        {
          "output_type": "stream",
          "name": "stdout",
          "text": "Mean cross-validation score: 0.99\n"
        }
      ],
      "execution_count": 166,
      "metadata": {
        "jupyter": {
          "source_hidden": false,
          "outputs_hidden": false
        },
        "nteract": {
          "transient": {
            "deleting": false
          }
        }
      }
    },
    {
      "cell_type": "markdown",
      "source": [
        "# Test the Fitted Model On Unseen Data\r\n",
        "#### Now that we have trained our model and run cross validation on our training data, we can apply our model to unseen observations which will allow us to understand how well it performs"
      ],
      "metadata": {
        "nteract": {
          "transient": {
            "deleting": false
          }
        }
      }
    },
    {
      "cell_type": "code",
      "source": [
        "y_pred = model.predict(X_test)"
      ],
      "outputs": [],
      "execution_count": 167,
      "metadata": {
        "jupyter": {
          "source_hidden": false,
          "outputs_hidden": false
        },
        "nteract": {
          "transient": {
            "deleting": false
          }
        }
      }
    },
    {
      "cell_type": "markdown",
      "source": [
        "# Use the Confusion Matrix To Understand Accuracy\r\n",
        "#### Earlier in the notebook, we discussed class imbalance. The confusion matrix shows us how the skew of the default variable impacts our accuracy. There are ways to improve class imbalance but that is outside of the scope of this use case."
      ],
      "metadata": {
        "nteract": {
          "transient": {
            "deleting": false
          }
        }
      }
    },
    {
      "cell_type": "code",
      "source": [
        "## use the confusion matrix to understand accuracy\r\n",
        "cm = confusion_matrix(y_test, y_pred)\r\n",
        "TN, FP, FN, TP = confusion_matrix(y_test, y_pred).ravel()\r\n",
        "print('True Positive(TP)  = ', TP)\r\n",
        "print('False Positive(FP) = ', FP)\r\n",
        "print('True Negative(TN)  = ', TN)\r\n",
        "print('False Negative(FN) = ', FN)\r\n",
        "\r\n",
        "accuracy =  (TP+TN) /(TP+FP+TN+FN)\r\n",
        "print('Accuracy of the classification = {:0.3f}'.format(accuracy))"
      ],
      "outputs": [
        {
          "output_type": "stream",
          "name": "stdout",
          "text": "True Positive(TP)  =  0\nFalse Positive(FP) =  0\nTrue Negative(TN)  =  1092\nFalse Negative(FN) =  25\nAccuracy of the classification = 0.978\n"
        }
      ],
      "execution_count": 168,
      "metadata": {
        "jupyter": {
          "source_hidden": false,
          "outputs_hidden": false
        },
        "nteract": {
          "transient": {
            "deleting": false
          }
        }
      }
    },
    {
      "cell_type": "markdown",
      "source": [
        "# Deploy The Trained Model To Snowpark\r\n",
        "#### Open the connection to Snowflake and create a new Snowpark session\r\n",
        "#### Reference : https://docs.snowflake.com/en/developer-guide/snowpark/python/index.html\r\n",
        "\r\n"
      ],
      "metadata": {
        "nteract": {
          "transient": {
            "deleting": false
          }
        }
      }
    },
    {
      "cell_type": "code",
      "source": [
        "connection_parameters = {\r\n",
        "  \"account\": sfaccount + '.west-us-2.azure',\r\n",
        "  \"user\": sfuser,\r\n",
        "  \"password\": sfpasswd,\r\n",
        "  \"role\": 'ACCOUNTADMIN',\r\n",
        "  \"warehouse\": 'COMPUTE_WH',\r\n",
        "  \"database\": 'DEMO',\r\n",
        "  \"schema\": 'SOURCE_DATA'\r\n",
        "}\r\n",
        "\r\n",
        "session = Session.builder.configs(connection_parameters).create()\r\n",
        "df = session.create_dataframe([[1, 2], [3, 4]], schema=[\"a\", \"b\"])\r\n",
        "df = df.filter(df.a > 1)\r\n",
        "df.show()\r\n",
        "pandas_df = df.to_pandas()  # this requires pandas installed in the Python environment\r\n",
        "result = df.collect()"
      ],
      "outputs": [
        {
          "output_type": "stream",
          "name": "stdout",
          "text": "-------------\n|\"A\"  |\"B\"  |\n-------------\n|3    |4    |\n-------------\n\n"
        }
      ],
      "execution_count": 170,
      "metadata": {
        "jupyter": {
          "source_hidden": false,
          "outputs_hidden": false
        },
        "nteract": {
          "transient": {
            "deleting": false
          }
        }
      }
    },
    {
      "cell_type": "markdown",
      "source": [
        "# Create a Stage To Store the UDF and libraries required for deployment "
      ],
      "metadata": {
        "nteract": {
          "transient": {
            "deleting": false
          }
        }
      }
    },
    {
      "cell_type": "code",
      "source": [
        "#Let's first create a stage to store the artifacts\r\n",
        "print(session.sql('create stage if not exists MODELSTAGE').collect())"
      ],
      "outputs": [
        {
          "output_type": "stream",
          "name": "stdout",
          "text": "[Row(status='MODELSTAGE already exists, statement succeeded.')]\n"
        }
      ],
      "execution_count": 171,
      "metadata": {
        "jupyter": {
          "source_hidden": false,
          "outputs_hidden": false
        },
        "nteract": {
          "transient": {
            "deleting": false
          }
        }
      }
    },
    {
      "cell_type": "code",
      "source": [
        "session.add_packages(\"pandas\", \"numpy\", \"scikit-learn==1.0.2\")"
      ],
      "outputs": [
        {
          "output_type": "stream",
          "name": "stderr",
          "text": "WARNING:root:The version of package scikit-learn in the local environment is 0.22.1, which does not fit the criteria for the requirement scikit-learn==1.0.2. Your UDF might not work when the package version is different between the server and your local environment\n"
        }
      ],
      "execution_count": 172,
      "metadata": {
        "jupyter": {
          "source_hidden": false,
          "outputs_hidden": false
        },
        "nteract": {
          "transient": {
            "deleting": false
          }
        }
      }
    },
    {
      "cell_type": "markdown",
      "source": [
        "# Register your trained model as a UDF in your instance of Snowflake"
      ],
      "metadata": {
        "nteract": {
          "transient": {
            "deleting": false
          }
        }
      }
    },
    {
      "cell_type": "code",
      "source": [
        "features = df_transformed.columns[:-2].tolist()\r\n",
        "predict_churn_model = session.udf.register(lambda *args: \r\n",
        "                                    model.predict(pd.DataFrame(args, columns=features)),\r\n",
        "                                    name=\"predict_churn_model\",\r\n",
        "                                    stage_location=\"@MODELSTAGE\",\r\n",
        "                                    return_type=FloatType(),\r\n",
        "                                    is_permanent=True,\r\n",
        "                                    replace=True,\r\n",
        "                                    input_types=[ArrayType()])"
      ],
      "outputs": [],
      "execution_count": 173,
      "metadata": {
        "jupyter": {
          "source_hidden": false,
          "outputs_hidden": false
        },
        "nteract": {
          "transient": {
            "deleting": false
          }
        }
      }
    },
    {
      "cell_type": "code",
      "source": [
        "@udf(name='predict_default',is_permanent = True, stage_location = '@MODELSTAGE', replace=True, session=session)\r\n",
        "def predict_default(args: list) -> float:\r\n",
        "    row = pd.DataFrame([args], columns=features)\r\n",
        "    return model.predict(row)"
      ],
      "outputs": [],
      "execution_count": 174,
      "metadata": {
        "jupyter": {
          "source_hidden": false,
          "outputs_hidden": false
        },
        "nteract": {
          "transient": {
            "deleting": false
          }
        }
      }
    },
    {
      "cell_type": "markdown",
      "source": [
        "# Apply the deployed model on a random set of customer ID's\r\n",
        "#### Test the deployed model (batch inference) out on a random sample of records and write the results to a new table. In this case, we use the feature table (as input) we created in a previous step."
      ],
      "metadata": {
        "nteract": {
          "transient": {
            "deleting": false
          }
        }
      }
    },
    {
      "cell_type": "code",
      "source": [
        "default_prediction_df = session.table('BANKING_CUSTOMERS_FEATURES').sample(n = 400)\r\n",
        "default_prediction_df.select(default_prediction_df.CUSTOMERID, default_prediction_df.DEFAULT_STATUS, \\\r\n",
        "              F.call_udf(\"predict_default\", F.array_construct(*features)).alias('PREDICTED_DEFAULT')) \\\r\n",
        "        .write.mode('overwrite').saveAsTable('default_detection')"
      ],
      "outputs": [],
      "execution_count": 175,
      "metadata": {
        "jupyter": {
          "source_hidden": false,
          "outputs_hidden": false
        },
        "nteract": {
          "transient": {
            "deleting": false
          }
        }
      }
    },
    {
      "cell_type": "markdown",
      "source": [
        "# Final Table with Predicted Values\r\n",
        "#### Connect to the new table with predictions and show in a pandas dataframe."
      ],
      "metadata": {
        "nteract": {
          "transient": {
            "deleting": false
          }
        }
      }
    },
    {
      "cell_type": "code",
      "source": [
        "# Execute a statement that will generate a result set.\r\n",
        "sql = \"select * from demo.source_data.default_detection\"\r\n",
        "cur.execute(sql)\r\n",
        "\r\n",
        "# Fetch the result set from the cursor and deliver it as the Pandas DataFrame.\r\n",
        "df = cur.fetch_pandas_all()\r\n",
        "\r\n",
        "df.head()"
      ],
      "outputs": [
        {
          "output_type": "execute_result",
          "execution_count": 176,
          "data": {
            "text/plain": "   CUSTOMERID  DEFAULT_STATUS  PREDICTED_DEFAULT\n0        3167               0                0.0\n1       10634               0                0.0\n2        6504               0                0.0\n3        9544               0                0.0\n4        9566               0                0.0",
            "text/html": "<div>\n<style scoped>\n    .dataframe tbody tr th:only-of-type {\n        vertical-align: middle;\n    }\n\n    .dataframe tbody tr th {\n        vertical-align: top;\n    }\n\n    .dataframe thead th {\n        text-align: right;\n    }\n</style>\n<table border=\"1\" class=\"dataframe\">\n  <thead>\n    <tr style=\"text-align: right;\">\n      <th></th>\n      <th>CUSTOMERID</th>\n      <th>DEFAULT_STATUS</th>\n      <th>PREDICTED_DEFAULT</th>\n    </tr>\n  </thead>\n  <tbody>\n    <tr>\n      <th>0</th>\n      <td>3167</td>\n      <td>0</td>\n      <td>0.0</td>\n    </tr>\n    <tr>\n      <th>1</th>\n      <td>10634</td>\n      <td>0</td>\n      <td>0.0</td>\n    </tr>\n    <tr>\n      <th>2</th>\n      <td>6504</td>\n      <td>0</td>\n      <td>0.0</td>\n    </tr>\n    <tr>\n      <th>3</th>\n      <td>9544</td>\n      <td>0</td>\n      <td>0.0</td>\n    </tr>\n    <tr>\n      <th>4</th>\n      <td>9566</td>\n      <td>0</td>\n      <td>0.0</td>\n    </tr>\n  </tbody>\n</table>\n</div>"
          },
          "metadata": {}
        }
      ],
      "execution_count": 176,
      "metadata": {
        "jupyter": {
          "source_hidden": false,
          "outputs_hidden": false
        },
        "nteract": {
          "transient": {
            "deleting": false
          }
        }
      }
    }
  ],
  "metadata": {
    "application/vnd.databricks.v1+notebook": {
      "notebookName": "Snowflake Demo Project (Abalone Model) v2",
      "dashboards": [],
      "notebookMetadata": {
        "pythonIndentUnit": 2
      },
      "language": "python",
      "widgets": {},
      "notebookOrigID": 3281562606889750
    },
    "language_info": {
      "name": "python",
      "version": "3.8.5",
      "mimetype": "text/x-python",
      "codemirror_mode": {
        "name": "ipython",
        "version": 3
      },
      "pygments_lexer": "ipython3",
      "nbconvert_exporter": "python",
      "file_extension": ".py"
    },
    "kernelspec": {
      "name": "python38-azureml",
      "language": "python",
      "display_name": "Python 3.8 - AzureML"
    },
    "kernel_info": {
      "name": "python38-azureml"
    },
    "nteract": {
      "version": "nteract-front-end@1.0.0"
    }
  },
  "nbformat": 4,
  "nbformat_minor": 0
}
